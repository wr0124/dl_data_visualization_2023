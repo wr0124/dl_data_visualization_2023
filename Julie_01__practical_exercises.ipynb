{
  "cells": [
    {
      "cell_type": "markdown",
      "metadata": {
        "id": "view-in-github",
        "colab_type": "text"
      },
      "source": [
        "<a href=\"https://colab.research.google.com/github/wr0124/dl_data_visualization_2023/blob/main/Julie_01__practical_exercises.ipynb\" target=\"_parent\"><img src=\"https://colab.research.google.com/assets/colab-badge.svg\" alt=\"Open In Colab\"/></a>"
      ]
    },
    {
      "cell_type": "markdown",
      "metadata": {
        "id": "LYvAOR2VzHmW"
      },
      "source": [
        "## Practical Exercises"
      ]
    },
    {
      "cell_type": "code",
      "execution_count": null,
      "metadata": {
        "id": "Xwdfo7z20TUK"
      },
      "outputs": [],
      "source": [
        "import io\n",
        "import matplotlib\n",
        "import matplotlib.pyplot as plt\n",
        "import numpy\n",
        "import pandas as pd\n",
        "import seaborn\n",
        "\n",
        "seaborn.set_context('talk')"
      ]
    },
    {
      "cell_type": "markdown",
      "metadata": {
        "id": "XY2Hl-Ma07Nn"
      },
      "source": [
        "## Reading the dataset"
      ]
    },
    {
      "cell_type": "code",
      "execution_count": null,
      "metadata": {
        "id": "Vviv_sqXdR5W"
      },
      "outputs": [],
      "source": [
        "url = 'https://www.famaf.unc.edu.ar/~nocampo043/sysarmy_survey_2020_processed.csv'\n",
        "df = pd.read_csv(url)"
      ]
    },
    {
      "cell_type": "code",
      "execution_count": null,
      "metadata": {
        "colab": {
          "base_uri": "https://localhost:8080/",
          "height": 306
        },
        "id": "gckNHXXLktJ4",
        "outputId": "5d2777c5-56a1-4677-e4ad-f8375fc8c671"
      },
      "outputs": [
        {
          "output_type": "execute_result",
          "data": {
            "text/plain": [
              "  profile_gender  profile_age work_country                    work_province  \\\n",
              "0         Female           26    Argentina  Ciudad Autónoma de Buenos Aires   \n",
              "1           Male           29    Argentina                       Corrientes   \n",
              "2         Female           22    Argentina  Ciudad Autónoma de Buenos Aires   \n",
              "\n",
              "   profile_years_experience  work_years_in_company  \\\n",
              "0                       3.0                    3.0   \n",
              "1                       5.0                    2.0   \n",
              "2                       2.0                    0.0   \n",
              "\n",
              "   work_years_in_current_position  work_people_in_charge_of  \\\n",
              "0                             3.0                         0   \n",
              "1                             2.0                         4   \n",
              "2                             0.0                         0   \n",
              "\n",
              "  profile_studies_level profile_studies_level_state  ...    salary_has_bonus  \\\n",
              "0            University                     Ongoing  ...                  No   \n",
              "1            University                     Ongoing  ...  Less than a salary   \n",
              "2             Secondary                    Complete  ...          One salary   \n",
              "\n",
              "  salary_inflation_adjustment_2020  \\\n",
              "0                               No   \n",
              "1                              One   \n",
              "2                               No   \n",
              "\n",
              "  salary_percentage_inflation_adjustment_2020  \\\n",
              "0                                         0.0   \n",
              "1                                        10.0   \n",
              "2                                         0.0   \n",
              "\n",
              "  salary_month_last_inflation_adjustment work_has_violence_situations  \\\n",
              "0                                      0            In my current job   \n",
              "1                                      1                        Never   \n",
              "2                                      0            In a previous job   \n",
              "\n",
              "  profile_has_disabilities_hiring_difficulties company_employee_number  \\\n",
              "0                                          NaN                501-1000   \n",
              "1                                           No                 201-500   \n",
              "2                                           No               2001-5000   \n",
              "\n",
              "                      company_main_activity company_recommended  \\\n",
              "0  Services / Software Consulting / Digital                   7   \n",
              "1                          Other industries                   8   \n",
              "2                          Other industries                   6   \n",
              "\n",
              "  company_diversity_policies  \n",
              "0                          2  \n",
              "1                          9  \n",
              "2                          9  \n",
              "\n",
              "[3 rows x 43 columns]"
            ],
            "text/html": [
              "\n",
              "  <div id=\"df-769a29a1-3941-49f2-b711-767721e3a31d\">\n",
              "    <div class=\"colab-df-container\">\n",
              "      <div>\n",
              "<style scoped>\n",
              "    .dataframe tbody tr th:only-of-type {\n",
              "        vertical-align: middle;\n",
              "    }\n",
              "\n",
              "    .dataframe tbody tr th {\n",
              "        vertical-align: top;\n",
              "    }\n",
              "\n",
              "    .dataframe thead th {\n",
              "        text-align: right;\n",
              "    }\n",
              "</style>\n",
              "<table border=\"1\" class=\"dataframe\">\n",
              "  <thead>\n",
              "    <tr style=\"text-align: right;\">\n",
              "      <th></th>\n",
              "      <th>profile_gender</th>\n",
              "      <th>profile_age</th>\n",
              "      <th>work_country</th>\n",
              "      <th>work_province</th>\n",
              "      <th>profile_years_experience</th>\n",
              "      <th>work_years_in_company</th>\n",
              "      <th>work_years_in_current_position</th>\n",
              "      <th>work_people_in_charge_of</th>\n",
              "      <th>profile_studies_level</th>\n",
              "      <th>profile_studies_level_state</th>\n",
              "      <th>...</th>\n",
              "      <th>salary_has_bonus</th>\n",
              "      <th>salary_inflation_adjustment_2020</th>\n",
              "      <th>salary_percentage_inflation_adjustment_2020</th>\n",
              "      <th>salary_month_last_inflation_adjustment</th>\n",
              "      <th>work_has_violence_situations</th>\n",
              "      <th>profile_has_disabilities_hiring_difficulties</th>\n",
              "      <th>company_employee_number</th>\n",
              "      <th>company_main_activity</th>\n",
              "      <th>company_recommended</th>\n",
              "      <th>company_diversity_policies</th>\n",
              "    </tr>\n",
              "  </thead>\n",
              "  <tbody>\n",
              "    <tr>\n",
              "      <th>0</th>\n",
              "      <td>Female</td>\n",
              "      <td>26</td>\n",
              "      <td>Argentina</td>\n",
              "      <td>Ciudad Autónoma de Buenos Aires</td>\n",
              "      <td>3.0</td>\n",
              "      <td>3.0</td>\n",
              "      <td>3.0</td>\n",
              "      <td>0</td>\n",
              "      <td>University</td>\n",
              "      <td>Ongoing</td>\n",
              "      <td>...</td>\n",
              "      <td>No</td>\n",
              "      <td>No</td>\n",
              "      <td>0.0</td>\n",
              "      <td>0</td>\n",
              "      <td>In my current job</td>\n",
              "      <td>NaN</td>\n",
              "      <td>501-1000</td>\n",
              "      <td>Services / Software Consulting / Digital</td>\n",
              "      <td>7</td>\n",
              "      <td>2</td>\n",
              "    </tr>\n",
              "    <tr>\n",
              "      <th>1</th>\n",
              "      <td>Male</td>\n",
              "      <td>29</td>\n",
              "      <td>Argentina</td>\n",
              "      <td>Corrientes</td>\n",
              "      <td>5.0</td>\n",
              "      <td>2.0</td>\n",
              "      <td>2.0</td>\n",
              "      <td>4</td>\n",
              "      <td>University</td>\n",
              "      <td>Ongoing</td>\n",
              "      <td>...</td>\n",
              "      <td>Less than a salary</td>\n",
              "      <td>One</td>\n",
              "      <td>10.0</td>\n",
              "      <td>1</td>\n",
              "      <td>Never</td>\n",
              "      <td>No</td>\n",
              "      <td>201-500</td>\n",
              "      <td>Other industries</td>\n",
              "      <td>8</td>\n",
              "      <td>9</td>\n",
              "    </tr>\n",
              "    <tr>\n",
              "      <th>2</th>\n",
              "      <td>Female</td>\n",
              "      <td>22</td>\n",
              "      <td>Argentina</td>\n",
              "      <td>Ciudad Autónoma de Buenos Aires</td>\n",
              "      <td>2.0</td>\n",
              "      <td>0.0</td>\n",
              "      <td>0.0</td>\n",
              "      <td>0</td>\n",
              "      <td>Secondary</td>\n",
              "      <td>Complete</td>\n",
              "      <td>...</td>\n",
              "      <td>One salary</td>\n",
              "      <td>No</td>\n",
              "      <td>0.0</td>\n",
              "      <td>0</td>\n",
              "      <td>In a previous job</td>\n",
              "      <td>No</td>\n",
              "      <td>2001-5000</td>\n",
              "      <td>Other industries</td>\n",
              "      <td>6</td>\n",
              "      <td>9</td>\n",
              "    </tr>\n",
              "  </tbody>\n",
              "</table>\n",
              "<p>3 rows × 43 columns</p>\n",
              "</div>\n",
              "      <button class=\"colab-df-convert\" onclick=\"convertToInteractive('df-769a29a1-3941-49f2-b711-767721e3a31d')\"\n",
              "              title=\"Convert this dataframe to an interactive table.\"\n",
              "              style=\"display:none;\">\n",
              "        \n",
              "  <svg xmlns=\"http://www.w3.org/2000/svg\" height=\"24px\"viewBox=\"0 0 24 24\"\n",
              "       width=\"24px\">\n",
              "    <path d=\"M0 0h24v24H0V0z\" fill=\"none\"/>\n",
              "    <path d=\"M18.56 5.44l.94 2.06.94-2.06 2.06-.94-2.06-.94-.94-2.06-.94 2.06-2.06.94zm-11 1L8.5 8.5l.94-2.06 2.06-.94-2.06-.94L8.5 2.5l-.94 2.06-2.06.94zm10 10l.94 2.06.94-2.06 2.06-.94-2.06-.94-.94-2.06-.94 2.06-2.06.94z\"/><path d=\"M17.41 7.96l-1.37-1.37c-.4-.4-.92-.59-1.43-.59-.52 0-1.04.2-1.43.59L10.3 9.45l-7.72 7.72c-.78.78-.78 2.05 0 2.83L4 21.41c.39.39.9.59 1.41.59.51 0 1.02-.2 1.41-.59l7.78-7.78 2.81-2.81c.8-.78.8-2.07 0-2.86zM5.41 20L4 18.59l7.72-7.72 1.47 1.35L5.41 20z\"/>\n",
              "  </svg>\n",
              "      </button>\n",
              "      \n",
              "  <style>\n",
              "    .colab-df-container {\n",
              "      display:flex;\n",
              "      flex-wrap:wrap;\n",
              "      gap: 12px;\n",
              "    }\n",
              "\n",
              "    .colab-df-convert {\n",
              "      background-color: #E8F0FE;\n",
              "      border: none;\n",
              "      border-radius: 50%;\n",
              "      cursor: pointer;\n",
              "      display: none;\n",
              "      fill: #1967D2;\n",
              "      height: 32px;\n",
              "      padding: 0 0 0 0;\n",
              "      width: 32px;\n",
              "    }\n",
              "\n",
              "    .colab-df-convert:hover {\n",
              "      background-color: #E2EBFA;\n",
              "      box-shadow: 0px 1px 2px rgba(60, 64, 67, 0.3), 0px 1px 3px 1px rgba(60, 64, 67, 0.15);\n",
              "      fill: #174EA6;\n",
              "    }\n",
              "\n",
              "    [theme=dark] .colab-df-convert {\n",
              "      background-color: #3B4455;\n",
              "      fill: #D2E3FC;\n",
              "    }\n",
              "\n",
              "    [theme=dark] .colab-df-convert:hover {\n",
              "      background-color: #434B5C;\n",
              "      box-shadow: 0px 1px 3px 1px rgba(0, 0, 0, 0.15);\n",
              "      filter: drop-shadow(0px 1px 2px rgba(0, 0, 0, 0.3));\n",
              "      fill: #FFFFFF;\n",
              "    }\n",
              "  </style>\n",
              "\n",
              "      <script>\n",
              "        const buttonEl =\n",
              "          document.querySelector('#df-769a29a1-3941-49f2-b711-767721e3a31d button.colab-df-convert');\n",
              "        buttonEl.style.display =\n",
              "          google.colab.kernel.accessAllowed ? 'block' : 'none';\n",
              "\n",
              "        async function convertToInteractive(key) {\n",
              "          const element = document.querySelector('#df-769a29a1-3941-49f2-b711-767721e3a31d');\n",
              "          const dataTable =\n",
              "            await google.colab.kernel.invokeFunction('convertToInteractive',\n",
              "                                                     [key], {});\n",
              "          if (!dataTable) return;\n",
              "\n",
              "          const docLinkHtml = 'Like what you see? Visit the ' +\n",
              "            '<a target=\"_blank\" href=https://colab.research.google.com/notebooks/data_table.ipynb>data table notebook</a>'\n",
              "            + ' to learn more about interactive tables.';\n",
              "          element.innerHTML = '';\n",
              "          dataTable['output_type'] = 'display_data';\n",
              "          await google.colab.output.renderOutput(dataTable, element);\n",
              "          const docLink = document.createElement('div');\n",
              "          docLink.innerHTML = docLinkHtml;\n",
              "          element.appendChild(docLink);\n",
              "        }\n",
              "      </script>\n",
              "    </div>\n",
              "  </div>\n",
              "  "
            ]
          },
          "metadata": {},
          "execution_count": 22
        }
      ],
      "source": [
        "df[:3]"
      ]
    },
    {
      "cell_type": "markdown",
      "metadata": {
        "id": "-ZSQYANFHHgV"
      },
      "source": [
        "# Exercise - Descriptive analysis\n",
        "\n",
        "Answer the question: **What programming languages are ​​associated with the best salaries?**\n",
        "\n",
        "For it:\n",
        "1. Select the relevant columns to `salary_monthly_NET`, `work_contract_type`, `tools_programming_language`, and `profile_studies_level`.\n",
        "2. Select the relevant rows to analyze. This includes removing extreme and erroneous values, but you can also focus the analysis on a sub-population. For example, they can be limited to people with a salary greater than 10,000 pesos or people who work only \"Full-Time\" or with a certain programming language, but you must justify your choice and reformulate the initial question if necessary.\n",
        "  * Get a list of the most popular programming languages. Then, decide how many and which ones to select to include in the analysis.\n",
        "3. Select metrics that help answer the question and methods to analyze them. Choose ONE of the following options:\n",
        "  * Compare salary distributions for each language using visualizations. As the visualization is the final product, it must be clear and show relevant information.\n",
        "  * Compare measures of descriptive statistics on salary distribution for each language. Be creative. Descriptive statistics allow us to say things like: \"Kotlin programmers mostly earn the top 10% of salaries!\" (where *majority* is a slippery middle ground that just means more than 50%). To compare multiple languages, we recommend using visualizations as well.\n",
        "  * Compare odds. For example: \"If you know Python or Java, you have a 30% more chance of winning over 100K\".\n",
        "\n",
        "If you consider it necessary, carry out several iterations. That is, if they find that the distributions of the programming languages ​​they initially selected are not very different, they can redo the analysis using only the programming languages ​​that are different."
      ]
    },
    {
      "cell_type": "code",
      "execution_count": null,
      "metadata": {
        "id": "6dqTEr7cZgvl"
      },
      "outputs": [],
      "source": [
        "# complete here if you want to include more columns\n",
        "relevant_columns = ['tools_programming_languages',\n",
        "                    'salary_monthly_NET',\n",
        "                    'work_contract_type',\n",
        "                    'profile_studies_level']"
      ]
    },
    {
      "cell_type": "markdown",
      "metadata": {
        "id": "OoGgzMvuEocM"
      },
      "source": [
        "### Frequency count of programming languages\n",
        "\n",
        "The column that contains information about the programming languages used is `tools_programming_languages`. Its values are strings with the selected languages separated by commas."
      ]
    },
    {
      "cell_type": "code",
      "execution_count": null,
      "metadata": {
        "colab": {
          "base_uri": "https://localhost:8080/"
        },
        "id": "J7AB2Ty8SvNl",
        "outputId": "730ef1a6-0123-4aee-e4f1-517ecc0da580"
      },
      "outputs": [
        {
          "output_type": "execute_result",
          "data": {
            "text/plain": [
              "0                        None\n",
              "1    HTML, Javascript, Python\n",
              "2                        None\n",
              "Name: tools_programming_languages, dtype: object"
            ]
          },
          "metadata": {},
          "execution_count": 24
        }
      ],
      "source": [
        "df.tools_programming_languages[:3]"
      ]
    },
    {
      "cell_type": "markdown",
      "metadata": {
        "id": "l8bYmvMhSroH"
      },
      "source": [
        "The following code cells separate these programming languages and count how often they appear.\n",
        "\n",
        "It is not necessary to understand this code in depth, although it is a good exercise."
      ]
    },
    {
      "cell_type": "code",
      "execution_count": null,
      "metadata": {
        "colab": {
          "base_uri": "https://localhost:8080/",
          "height": 206
        },
        "id": "PAQ81x3iUP_N",
        "outputId": "ae2f440e-30b4-46ab-c707-0fa3e0e9317f"
      },
      "outputs": [
        {
          "output_type": "execute_result",
          "data": {
            "text/plain": [
              "  programming_language                        tools_programming_languages  \\\n",
              "1                 html                           HTML, Javascript, Python   \n",
              "1           javascript                           HTML, Javascript, Python   \n",
              "1               python                           HTML, Javascript, Python   \n",
              "3           bash/shell  Bash/Shell, C, CSS, HTML, Java, Javascript, PH...   \n",
              "3                    c  Bash/Shell, C, CSS, HTML, Java, Javascript, PH...   \n",
              "\n",
              "   salary_monthly_NET work_contract_type profile_studies_level  \\\n",
              "1             63000.0          Full-Time            University   \n",
              "1             63000.0          Full-Time            University   \n",
              "1             63000.0          Full-Time            University   \n",
              "3            102000.0          Full-Time          Postgraduate   \n",
              "3            102000.0          Full-Time          Postgraduate   \n",
              "\n",
              "                         cured_programming_languages  \n",
              "1                         [html, javascript, python]  \n",
              "1                         [html, javascript, python]  \n",
              "1                         [html, javascript, python]  \n",
              "3  [bash/shell, c, css, html, java, javascript, p...  \n",
              "3  [bash/shell, c, css, html, java, javascript, p...  "
            ],
            "text/html": [
              "\n",
              "  <div id=\"df-ac350b97-73f9-423c-816c-8ea58531956f\">\n",
              "    <div class=\"colab-df-container\">\n",
              "      <div>\n",
              "<style scoped>\n",
              "    .dataframe tbody tr th:only-of-type {\n",
              "        vertical-align: middle;\n",
              "    }\n",
              "\n",
              "    .dataframe tbody tr th {\n",
              "        vertical-align: top;\n",
              "    }\n",
              "\n",
              "    .dataframe thead th {\n",
              "        text-align: right;\n",
              "    }\n",
              "</style>\n",
              "<table border=\"1\" class=\"dataframe\">\n",
              "  <thead>\n",
              "    <tr style=\"text-align: right;\">\n",
              "      <th></th>\n",
              "      <th>programming_language</th>\n",
              "      <th>tools_programming_languages</th>\n",
              "      <th>salary_monthly_NET</th>\n",
              "      <th>work_contract_type</th>\n",
              "      <th>profile_studies_level</th>\n",
              "      <th>cured_programming_languages</th>\n",
              "    </tr>\n",
              "  </thead>\n",
              "  <tbody>\n",
              "    <tr>\n",
              "      <th>1</th>\n",
              "      <td>html</td>\n",
              "      <td>HTML, Javascript, Python</td>\n",
              "      <td>63000.0</td>\n",
              "      <td>Full-Time</td>\n",
              "      <td>University</td>\n",
              "      <td>[html, javascript, python]</td>\n",
              "    </tr>\n",
              "    <tr>\n",
              "      <th>1</th>\n",
              "      <td>javascript</td>\n",
              "      <td>HTML, Javascript, Python</td>\n",
              "      <td>63000.0</td>\n",
              "      <td>Full-Time</td>\n",
              "      <td>University</td>\n",
              "      <td>[html, javascript, python]</td>\n",
              "    </tr>\n",
              "    <tr>\n",
              "      <th>1</th>\n",
              "      <td>python</td>\n",
              "      <td>HTML, Javascript, Python</td>\n",
              "      <td>63000.0</td>\n",
              "      <td>Full-Time</td>\n",
              "      <td>University</td>\n",
              "      <td>[html, javascript, python]</td>\n",
              "    </tr>\n",
              "    <tr>\n",
              "      <th>3</th>\n",
              "      <td>bash/shell</td>\n",
              "      <td>Bash/Shell, C, CSS, HTML, Java, Javascript, PH...</td>\n",
              "      <td>102000.0</td>\n",
              "      <td>Full-Time</td>\n",
              "      <td>Postgraduate</td>\n",
              "      <td>[bash/shell, c, css, html, java, javascript, p...</td>\n",
              "    </tr>\n",
              "    <tr>\n",
              "      <th>3</th>\n",
              "      <td>c</td>\n",
              "      <td>Bash/Shell, C, CSS, HTML, Java, Javascript, PH...</td>\n",
              "      <td>102000.0</td>\n",
              "      <td>Full-Time</td>\n",
              "      <td>Postgraduate</td>\n",
              "      <td>[bash/shell, c, css, html, java, javascript, p...</td>\n",
              "    </tr>\n",
              "  </tbody>\n",
              "</table>\n",
              "</div>\n",
              "      <button class=\"colab-df-convert\" onclick=\"convertToInteractive('df-ac350b97-73f9-423c-816c-8ea58531956f')\"\n",
              "              title=\"Convert this dataframe to an interactive table.\"\n",
              "              style=\"display:none;\">\n",
              "        \n",
              "  <svg xmlns=\"http://www.w3.org/2000/svg\" height=\"24px\"viewBox=\"0 0 24 24\"\n",
              "       width=\"24px\">\n",
              "    <path d=\"M0 0h24v24H0V0z\" fill=\"none\"/>\n",
              "    <path d=\"M18.56 5.44l.94 2.06.94-2.06 2.06-.94-2.06-.94-.94-2.06-.94 2.06-2.06.94zm-11 1L8.5 8.5l.94-2.06 2.06-.94-2.06-.94L8.5 2.5l-.94 2.06-2.06.94zm10 10l.94 2.06.94-2.06 2.06-.94-2.06-.94-.94-2.06-.94 2.06-2.06.94z\"/><path d=\"M17.41 7.96l-1.37-1.37c-.4-.4-.92-.59-1.43-.59-.52 0-1.04.2-1.43.59L10.3 9.45l-7.72 7.72c-.78.78-.78 2.05 0 2.83L4 21.41c.39.39.9.59 1.41.59.51 0 1.02-.2 1.41-.59l7.78-7.78 2.81-2.81c.8-.78.8-2.07 0-2.86zM5.41 20L4 18.59l7.72-7.72 1.47 1.35L5.41 20z\"/>\n",
              "  </svg>\n",
              "      </button>\n",
              "      \n",
              "  <style>\n",
              "    .colab-df-container {\n",
              "      display:flex;\n",
              "      flex-wrap:wrap;\n",
              "      gap: 12px;\n",
              "    }\n",
              "\n",
              "    .colab-df-convert {\n",
              "      background-color: #E8F0FE;\n",
              "      border: none;\n",
              "      border-radius: 50%;\n",
              "      cursor: pointer;\n",
              "      display: none;\n",
              "      fill: #1967D2;\n",
              "      height: 32px;\n",
              "      padding: 0 0 0 0;\n",
              "      width: 32px;\n",
              "    }\n",
              "\n",
              "    .colab-df-convert:hover {\n",
              "      background-color: #E2EBFA;\n",
              "      box-shadow: 0px 1px 2px rgba(60, 64, 67, 0.3), 0px 1px 3px 1px rgba(60, 64, 67, 0.15);\n",
              "      fill: #174EA6;\n",
              "    }\n",
              "\n",
              "    [theme=dark] .colab-df-convert {\n",
              "      background-color: #3B4455;\n",
              "      fill: #D2E3FC;\n",
              "    }\n",
              "\n",
              "    [theme=dark] .colab-df-convert:hover {\n",
              "      background-color: #434B5C;\n",
              "      box-shadow: 0px 1px 3px 1px rgba(0, 0, 0, 0.15);\n",
              "      filter: drop-shadow(0px 1px 2px rgba(0, 0, 0, 0.3));\n",
              "      fill: #FFFFFF;\n",
              "    }\n",
              "  </style>\n",
              "\n",
              "      <script>\n",
              "        const buttonEl =\n",
              "          document.querySelector('#df-ac350b97-73f9-423c-816c-8ea58531956f button.colab-df-convert');\n",
              "        buttonEl.style.display =\n",
              "          google.colab.kernel.accessAllowed ? 'block' : 'none';\n",
              "\n",
              "        async function convertToInteractive(key) {\n",
              "          const element = document.querySelector('#df-ac350b97-73f9-423c-816c-8ea58531956f');\n",
              "          const dataTable =\n",
              "            await google.colab.kernel.invokeFunction('convertToInteractive',\n",
              "                                                     [key], {});\n",
              "          if (!dataTable) return;\n",
              "\n",
              "          const docLinkHtml = 'Like what you see? Visit the ' +\n",
              "            '<a target=\"_blank\" href=https://colab.research.google.com/notebooks/data_table.ipynb>data table notebook</a>'\n",
              "            + ' to learn more about interactive tables.';\n",
              "          element.innerHTML = '';\n",
              "          dataTable['output_type'] = 'display_data';\n",
              "          await google.colab.output.renderOutput(dataTable, element);\n",
              "          const docLink = document.createElement('div');\n",
              "          docLink.innerHTML = docLinkHtml;\n",
              "          element.appendChild(docLink);\n",
              "        }\n",
              "      </script>\n",
              "    </div>\n",
              "  </div>\n",
              "  "
            ]
          },
          "metadata": {},
          "execution_count": 25
        }
      ],
      "source": [
        "# Convert the comma-separated string of languages to a list of string.\n",
        "# Remove 'None of the previous one' option, spaces and training commas.\n",
        "def split_languages(languages_str):\n",
        "  if not isinstance(languages_str, str):\n",
        "    return []\n",
        "  # Remove 'other' option\n",
        "  languages_str = languages_str.lower()\\\n",
        "    .replace('none of the previous one', '') \\\n",
        "    .replace('none', '')\n",
        "  # Split string into list of items\n",
        "  # Remove spaces and commas for each item\n",
        "  return [lang.strip().replace(',', '')\n",
        "          for lang in languages_str.split()]\n",
        "\n",
        "# Create a new column with the list of languages\n",
        "df.loc[:, 'cured_programming_languages'] = df.tools_programming_languages\\\n",
        "    .apply(split_languages)\n",
        "if 'cured_programming_languages' not in relevant_columns:\n",
        "    relevant_columns.append('cured_programming_languages') \n",
        "\n",
        "# Duplicate each row of df for each programming language\n",
        "# mentioned in the response.\n",
        "# We only include in df_lang the columns we are going to analyze later, so we\n",
        "# don't duplicate innecesary information.\n",
        "df_lang = df.cured_programming_languages\\\n",
        "    .apply(pd.Series).stack()\\\n",
        "    .reset_index(level=-1, drop=True).to_frame()\\\n",
        "    .join(df[relevant_columns])\\\n",
        "    .rename(columns={0: 'programming_language'})\n",
        "# Horrible programming style! But a lot of data science code can be written with\n",
        "# as concatenations of functions (pipelines), and there's no elegant way of\n",
        "# doing that on Python.\n",
        "df_lang[:5]"
      ]
    },
    {
      "cell_type": "markdown",
      "metadata": {
        "id": "qm8NUg-7UEue"
      },
      "source": [
        "In the `programming_language` column, you will find each language separately. Note that if a response contained 3 languages, such as `\"HTML, Javascript, Python\"`, the row has been replicated 3 times. Therefore, there are three rows with index 1."
      ]
    },
    {
      "cell_type": "markdown",
      "metadata": {
        "id": "nThbJ1KeUgDo"
      },
      "source": [
        "## Relevant language filtering\n",
        "\n",
        "The following code allows you to select only the rows where the value of the `programming_language` column is found in the `interesting_languages` list."
      ]
    },
    {
      "cell_type": "code",
      "execution_count": null,
      "metadata": {
        "colab": {
          "base_uri": "https://localhost:8080/",
          "height": 423
        },
        "id": "DEpVptnLZUQU",
        "outputId": "7d8e6e69-c7cd-495a-c0cc-056be465fd8b"
      },
      "outputs": [
        {
          "output_type": "execute_result",
          "data": {
            "text/plain": [
              "     programming_language                        tools_programming_languages  \\\n",
              "1              javascript                           HTML, Javascript, Python   \n",
              "1                  python                           HTML, Javascript, Python   \n",
              "3              javascript  Bash/Shell, C, CSS, HTML, Java, Javascript, PH...   \n",
              "3                  python  Bash/Shell, C, CSS, HTML, Java, Javascript, PH...   \n",
              "4              javascript             CSS, HTML, Javascript, SQL, TypeScript   \n",
              "...                   ...                                                ...   \n",
              "6087               python                                             Python   \n",
              "6089               python                            Bash/Shell, Python, SQL   \n",
              "6090           javascript  .NET, C#, COBOL, CSS, HTML, Javascript, PHP, S...   \n",
              "6093           javascript   C, C++, HTML, Java, Javascript, PHP, Python, SQL   \n",
              "6093               python   C, C++, HTML, Java, Javascript, PHP, Python, SQL   \n",
              "\n",
              "      salary_monthly_NET work_contract_type profile_studies_level  \\\n",
              "1                63000.0          Full-Time            University   \n",
              "1                63000.0          Full-Time            University   \n",
              "3               102000.0          Full-Time          Postgraduate   \n",
              "3               102000.0          Full-Time          Postgraduate   \n",
              "4               106000.0          Full-Time            University   \n",
              "...                  ...                ...                   ...   \n",
              "6087            120000.0          Full-Time            University   \n",
              "6089            130000.0          Full-Time            University   \n",
              "6090             97000.0          Full-Time              Terciary   \n",
              "6093                72.0          Full-Time              Terciary   \n",
              "6093                72.0          Full-Time              Terciary   \n",
              "\n",
              "                            cured_programming_languages  \n",
              "1                            [html, javascript, python]  \n",
              "1                            [html, javascript, python]  \n",
              "3     [bash/shell, c, css, html, java, javascript, p...  \n",
              "3     [bash/shell, c, css, html, java, javascript, p...  \n",
              "4              [css, html, javascript, sql, typescript]  \n",
              "...                                                 ...  \n",
              "6087                                           [python]  \n",
              "6089                          [bash/shell, python, sql]  \n",
              "6090  [.net, c#, cobol, css, html, javascript, php, ...  \n",
              "6093  [c, c++, html, java, javascript, php, python, ...  \n",
              "6093  [c, c++, html, java, javascript, php, python, ...  \n",
              "\n",
              "[3988 rows x 6 columns]"
            ],
            "text/html": [
              "\n",
              "  <div id=\"df-3a20b0d2-e4c3-4d3c-9233-472b1bc16150\">\n",
              "    <div class=\"colab-df-container\">\n",
              "      <div>\n",
              "<style scoped>\n",
              "    .dataframe tbody tr th:only-of-type {\n",
              "        vertical-align: middle;\n",
              "    }\n",
              "\n",
              "    .dataframe tbody tr th {\n",
              "        vertical-align: top;\n",
              "    }\n",
              "\n",
              "    .dataframe thead th {\n",
              "        text-align: right;\n",
              "    }\n",
              "</style>\n",
              "<table border=\"1\" class=\"dataframe\">\n",
              "  <thead>\n",
              "    <tr style=\"text-align: right;\">\n",
              "      <th></th>\n",
              "      <th>programming_language</th>\n",
              "      <th>tools_programming_languages</th>\n",
              "      <th>salary_monthly_NET</th>\n",
              "      <th>work_contract_type</th>\n",
              "      <th>profile_studies_level</th>\n",
              "      <th>cured_programming_languages</th>\n",
              "    </tr>\n",
              "  </thead>\n",
              "  <tbody>\n",
              "    <tr>\n",
              "      <th>1</th>\n",
              "      <td>javascript</td>\n",
              "      <td>HTML, Javascript, Python</td>\n",
              "      <td>63000.0</td>\n",
              "      <td>Full-Time</td>\n",
              "      <td>University</td>\n",
              "      <td>[html, javascript, python]</td>\n",
              "    </tr>\n",
              "    <tr>\n",
              "      <th>1</th>\n",
              "      <td>python</td>\n",
              "      <td>HTML, Javascript, Python</td>\n",
              "      <td>63000.0</td>\n",
              "      <td>Full-Time</td>\n",
              "      <td>University</td>\n",
              "      <td>[html, javascript, python]</td>\n",
              "    </tr>\n",
              "    <tr>\n",
              "      <th>3</th>\n",
              "      <td>javascript</td>\n",
              "      <td>Bash/Shell, C, CSS, HTML, Java, Javascript, PH...</td>\n",
              "      <td>102000.0</td>\n",
              "      <td>Full-Time</td>\n",
              "      <td>Postgraduate</td>\n",
              "      <td>[bash/shell, c, css, html, java, javascript, p...</td>\n",
              "    </tr>\n",
              "    <tr>\n",
              "      <th>3</th>\n",
              "      <td>python</td>\n",
              "      <td>Bash/Shell, C, CSS, HTML, Java, Javascript, PH...</td>\n",
              "      <td>102000.0</td>\n",
              "      <td>Full-Time</td>\n",
              "      <td>Postgraduate</td>\n",
              "      <td>[bash/shell, c, css, html, java, javascript, p...</td>\n",
              "    </tr>\n",
              "    <tr>\n",
              "      <th>4</th>\n",
              "      <td>javascript</td>\n",
              "      <td>CSS, HTML, Javascript, SQL, TypeScript</td>\n",
              "      <td>106000.0</td>\n",
              "      <td>Full-Time</td>\n",
              "      <td>University</td>\n",
              "      <td>[css, html, javascript, sql, typescript]</td>\n",
              "    </tr>\n",
              "    <tr>\n",
              "      <th>...</th>\n",
              "      <td>...</td>\n",
              "      <td>...</td>\n",
              "      <td>...</td>\n",
              "      <td>...</td>\n",
              "      <td>...</td>\n",
              "      <td>...</td>\n",
              "    </tr>\n",
              "    <tr>\n",
              "      <th>6087</th>\n",
              "      <td>python</td>\n",
              "      <td>Python</td>\n",
              "      <td>120000.0</td>\n",
              "      <td>Full-Time</td>\n",
              "      <td>University</td>\n",
              "      <td>[python]</td>\n",
              "    </tr>\n",
              "    <tr>\n",
              "      <th>6089</th>\n",
              "      <td>python</td>\n",
              "      <td>Bash/Shell, Python, SQL</td>\n",
              "      <td>130000.0</td>\n",
              "      <td>Full-Time</td>\n",
              "      <td>University</td>\n",
              "      <td>[bash/shell, python, sql]</td>\n",
              "    </tr>\n",
              "    <tr>\n",
              "      <th>6090</th>\n",
              "      <td>javascript</td>\n",
              "      <td>.NET, C#, COBOL, CSS, HTML, Javascript, PHP, S...</td>\n",
              "      <td>97000.0</td>\n",
              "      <td>Full-Time</td>\n",
              "      <td>Terciary</td>\n",
              "      <td>[.net, c#, cobol, css, html, javascript, php, ...</td>\n",
              "    </tr>\n",
              "    <tr>\n",
              "      <th>6093</th>\n",
              "      <td>javascript</td>\n",
              "      <td>C, C++, HTML, Java, Javascript, PHP, Python, SQL</td>\n",
              "      <td>72.0</td>\n",
              "      <td>Full-Time</td>\n",
              "      <td>Terciary</td>\n",
              "      <td>[c, c++, html, java, javascript, php, python, ...</td>\n",
              "    </tr>\n",
              "    <tr>\n",
              "      <th>6093</th>\n",
              "      <td>python</td>\n",
              "      <td>C, C++, HTML, Java, Javascript, PHP, Python, SQL</td>\n",
              "      <td>72.0</td>\n",
              "      <td>Full-Time</td>\n",
              "      <td>Terciary</td>\n",
              "      <td>[c, c++, html, java, javascript, php, python, ...</td>\n",
              "    </tr>\n",
              "  </tbody>\n",
              "</table>\n",
              "<p>3988 rows × 6 columns</p>\n",
              "</div>\n",
              "      <button class=\"colab-df-convert\" onclick=\"convertToInteractive('df-3a20b0d2-e4c3-4d3c-9233-472b1bc16150')\"\n",
              "              title=\"Convert this dataframe to an interactive table.\"\n",
              "              style=\"display:none;\">\n",
              "        \n",
              "  <svg xmlns=\"http://www.w3.org/2000/svg\" height=\"24px\"viewBox=\"0 0 24 24\"\n",
              "       width=\"24px\">\n",
              "    <path d=\"M0 0h24v24H0V0z\" fill=\"none\"/>\n",
              "    <path d=\"M18.56 5.44l.94 2.06.94-2.06 2.06-.94-2.06-.94-.94-2.06-.94 2.06-2.06.94zm-11 1L8.5 8.5l.94-2.06 2.06-.94-2.06-.94L8.5 2.5l-.94 2.06-2.06.94zm10 10l.94 2.06.94-2.06 2.06-.94-2.06-.94-.94-2.06-.94 2.06-2.06.94z\"/><path d=\"M17.41 7.96l-1.37-1.37c-.4-.4-.92-.59-1.43-.59-.52 0-1.04.2-1.43.59L10.3 9.45l-7.72 7.72c-.78.78-.78 2.05 0 2.83L4 21.41c.39.39.9.59 1.41.59.51 0 1.02-.2 1.41-.59l7.78-7.78 2.81-2.81c.8-.78.8-2.07 0-2.86zM5.41 20L4 18.59l7.72-7.72 1.47 1.35L5.41 20z\"/>\n",
              "  </svg>\n",
              "      </button>\n",
              "      \n",
              "  <style>\n",
              "    .colab-df-container {\n",
              "      display:flex;\n",
              "      flex-wrap:wrap;\n",
              "      gap: 12px;\n",
              "    }\n",
              "\n",
              "    .colab-df-convert {\n",
              "      background-color: #E8F0FE;\n",
              "      border: none;\n",
              "      border-radius: 50%;\n",
              "      cursor: pointer;\n",
              "      display: none;\n",
              "      fill: #1967D2;\n",
              "      height: 32px;\n",
              "      padding: 0 0 0 0;\n",
              "      width: 32px;\n",
              "    }\n",
              "\n",
              "    .colab-df-convert:hover {\n",
              "      background-color: #E2EBFA;\n",
              "      box-shadow: 0px 1px 2px rgba(60, 64, 67, 0.3), 0px 1px 3px 1px rgba(60, 64, 67, 0.15);\n",
              "      fill: #174EA6;\n",
              "    }\n",
              "\n",
              "    [theme=dark] .colab-df-convert {\n",
              "      background-color: #3B4455;\n",
              "      fill: #D2E3FC;\n",
              "    }\n",
              "\n",
              "    [theme=dark] .colab-df-convert:hover {\n",
              "      background-color: #434B5C;\n",
              "      box-shadow: 0px 1px 3px 1px rgba(0, 0, 0, 0.15);\n",
              "      filter: drop-shadow(0px 1px 2px rgba(0, 0, 0, 0.3));\n",
              "      fill: #FFFFFF;\n",
              "    }\n",
              "  </style>\n",
              "\n",
              "      <script>\n",
              "        const buttonEl =\n",
              "          document.querySelector('#df-3a20b0d2-e4c3-4d3c-9233-472b1bc16150 button.colab-df-convert');\n",
              "        buttonEl.style.display =\n",
              "          google.colab.kernel.accessAllowed ? 'block' : 'none';\n",
              "\n",
              "        async function convertToInteractive(key) {\n",
              "          const element = document.querySelector('#df-3a20b0d2-e4c3-4d3c-9233-472b1bc16150');\n",
              "          const dataTable =\n",
              "            await google.colab.kernel.invokeFunction('convertToInteractive',\n",
              "                                                     [key], {});\n",
              "          if (!dataTable) return;\n",
              "\n",
              "          const docLinkHtml = 'Like what you see? Visit the ' +\n",
              "            '<a target=\"_blank\" href=https://colab.research.google.com/notebooks/data_table.ipynb>data table notebook</a>'\n",
              "            + ' to learn more about interactive tables.';\n",
              "          element.innerHTML = '';\n",
              "          dataTable['output_type'] = 'display_data';\n",
              "          await google.colab.output.renderOutput(dataTable, element);\n",
              "          const docLink = document.createElement('div');\n",
              "          docLink.innerHTML = docLinkHtml;\n",
              "          element.appendChild(docLink);\n",
              "        }\n",
              "      </script>\n",
              "    </div>\n",
              "  </div>\n",
              "  "
            ]
          },
          "metadata": {},
          "execution_count": 26
        }
      ],
      "source": [
        "# Filter out languages that we want to exclude\n",
        "# Complete here with your selected list.\n",
        "interesting_languages = [\"python\", \"javascript\"]\n",
        "filtered_df_lang = df_lang[df_lang.programming_language.isin(interesting_languages)]\n",
        "filtered_df_lang"
      ]
    },
    {
      "cell_type": "markdown",
      "source": [
        "## ***my test***"
      ],
      "metadata": {
        "id": "Q21jM7lSSI6Y"
      }
    },
    {
      "cell_type": "code",
      "source": [
        "df=df_lang.drop(columns=[\"tools_programming_languages\",\"cured_programming_languages\"])\n",
        "print( df.head() )\n",
        "print( df[\"programming_language\"].value_counts().sort_values(ascending=False) )\n",
        "print( df.salary_monthly_NET.describe() )\n",
        "print( df.work_contract_type.value_counts() )\n",
        "print( df.profile_studies_level.value_counts() )"
      ],
      "metadata": {
        "colab": {
          "base_uri": "https://localhost:8080/"
        },
        "id": "VhMBrX1-SNoI",
        "outputId": "9acc71e2-62b4-416f-87db-81c3f982d2f1"
      },
      "execution_count": null,
      "outputs": [
        {
          "output_type": "stream",
          "name": "stdout",
          "text": [
            "  programming_language  salary_monthly_NET work_contract_type  \\\n",
            "1                 html             63000.0          Full-Time   \n",
            "1           javascript             63000.0          Full-Time   \n",
            "1               python             63000.0          Full-Time   \n",
            "3           bash/shell            102000.0          Full-Time   \n",
            "3                    c            102000.0          Full-Time   \n",
            "\n",
            "  profile_studies_level  \n",
            "1            University  \n",
            "1            University  \n",
            "1            University  \n",
            "3          Postgraduate  \n",
            "3          Postgraduate  \n",
            "javascript    2513\n",
            "sql           2154\n",
            "html          1861\n",
            "python        1475\n",
            "java          1453\n",
            "              ... \n",
            "lenguaje!        1\n",
            "jbase            1\n",
            "tal              1\n",
            "siebel           1\n",
            "infobasic        1\n",
            "Name: programming_language, Length: 207, dtype: int64\n",
            "count    1.706400e+04\n",
            "mean     1.004756e+05\n",
            "std      1.054180e+05\n",
            "min      1.000000e+00\n",
            "25%      5.400000e+04\n",
            "50%      8.000000e+04\n",
            "75%      1.100000e+05\n",
            "max      2.080000e+06\n",
            "Name: salary_monthly_NET, dtype: float64\n",
            "Full-Time                                           14880\n",
            "Part-Time                                             941\n",
            "Remote (company from another country)                 704\n",
            "Freelance                                             599\n",
            "Outsourced (work through a consultant or agency)      578\n",
            "Name: work_contract_type, dtype: int64\n",
            "University      12305\n",
            "Terciary         3325\n",
            "Secondary        1059\n",
            "Postgraduate      885\n",
            "Doctorate         114\n",
            "Postdoc            11\n",
            "Primary             3\n",
            "Name: profile_studies_level, dtype: int64\n"
          ]
        }
      ]
    },
    {
      "cell_type": "code",
      "source": [
        "program_interesting=[\"javascript\",\"sql\",\"html\" ,\"python\", \"java\"]\n",
        "df_filter=df[ (df[\"work_contract_type\"]==\"Full-Time\") & (df[\"profile_studies_level\"]==\"University\") ]\n",
        " \n",
        "df_prog=df_filter[df_filter.programming_language.isin(program_interesting)]\n",
        "import seaborn as sns\n",
        "sns.boxplot(data=df_prog, x=\"salary_monthly_NET\", y=\"programming_language\")"
      ],
      "metadata": {
        "colab": {
          "base_uri": "https://localhost:8080/",
          "height": 319
        },
        "id": "spcxeXS2U_ms",
        "outputId": "61e51023-cedd-4428-b320-493b651d830f"
      },
      "execution_count": null,
      "outputs": [
        {
          "output_type": "execute_result",
          "data": {
            "text/plain": [
              "<matplotlib.axes._subplots.AxesSubplot at 0x7f276f3dab80>"
            ]
          },
          "metadata": {},
          "execution_count": 38
        },
        {
          "output_type": "display_data",
          "data": {
            "text/plain": [
              "<Figure size 432x288 with 1 Axes>"
            ],
            "image/png": "[encoded data removed]"
          },
          "metadata": {
            "needs_background": "light"
          }
        }
      ]
    },
    {
      "cell_type": "code",
      "source": [
        "print( df_prog.head() )\n",
        "print( df_prog.groupby(\"programming_language\").mean() )\n",
        "sns.barplot(data=df_prog, x=\"programming_language\", y=\"salary_monthly_NET\")"
      ],
      "metadata": {
        "colab": {
          "base_uri": "https://localhost:8080/",
          "height": 675
        },
        "id": "c7mWHlyyYTuc",
        "outputId": "3daf2998-06b2-4211-fc54-593fc23f9865"
      },
      "execution_count": null,
      "outputs": [
        {
          "output_type": "stream",
          "name": "stdout",
          "text": [
            "  programming_language  salary_monthly_NET work_contract_type  \\\n",
            "1                 html             63000.0          Full-Time   \n",
            "1           javascript             63000.0          Full-Time   \n",
            "1               python             63000.0          Full-Time   \n",
            "4                 html            106000.0          Full-Time   \n",
            "4           javascript            106000.0          Full-Time   \n",
            "\n",
            "  profile_studies_level  \n",
            "1            University  \n",
            "1            University  \n",
            "1            University  \n",
            "4            University  \n",
            "4            University  \n",
            "                      salary_monthly_NET\n",
            "programming_language                    \n",
            "html                        85007.907939\n",
            "java                        97281.087022\n",
            "javascript                  90062.843072\n",
            "python                     100693.933310\n",
            "sql                         87664.545406\n"
          ]
        },
        {
          "output_type": "execute_result",
          "data": {
            "text/plain": [
              "<matplotlib.axes._subplots.AxesSubplot at 0x7f276f2b2c10>"
            ]
          },
          "metadata": {},
          "execution_count": 41
        },
        {
          "output_type": "display_data",
          "data": {
            "text/plain": [
              "<Figure size 432x288 with 1 Axes>"
            ],
            "image/png": "[encoded data removed]"
          },
          "metadata": {
            "needs_background": "light"
          }
        }
      ]
    },
    {
      "cell_type": "code",
      "source": [
        "avg_sal_"
      ],
      "metadata": {
        "id": "b0V3qz87ZGVe"
      },
      "execution_count": null,
      "outputs": []
    },
    {
      "cell_type": "markdown",
      "source": [
        "## **soulution de prof**"
      ],
      "metadata": {
        "id": "c6SKvONwSBHR"
      }
    },
    {
      "cell_type": "markdown",
      "metadata": {
        "id": "cDMArEOTQq8y"
      },
      "source": [
        "## Solutions"
      ]
    },
    {
      "cell_type": "markdown",
      "metadata": {
        "id": "S8BTuW-0Qq8y"
      },
      "source": [
        "First, let's analyze the three steps to make an analysis.\n",
        "\n",
        "**Step 1**: Define our main question, in this case: **What programming languages are ​​associated with the best salaries?**\n",
        "\n",
        "**Step 2**: Select possible relevant columns which might help to answer the questions.\n",
        "\n",
        "**Step 3**: Prepare experiment using visualizations.\n",
        "\n",
        "We already have steps 1 and 2, given by the exercise and the code provided above. The dataframe `df_lang` contains the necessary columns we will be using: `salary_monthly_NET`, `work_contract_type`, `programming_language`, and `profile_studies_level`."
      ]
    },
    {
      "cell_type": "code",
      "execution_count": null,
      "metadata": {
        "colab": {
          "base_uri": "https://localhost:8080/",
          "height": 423
        },
        "id": "hNEfivr4Qq8y",
        "outputId": "d0165e32-84f0-4276-c740-8ea6a13d384e"
      },
      "outputs": [
        {
          "output_type": "execute_result",
          "data": {
            "text/plain": [
              "     programming_language                        tools_programming_languages  \\\n",
              "1                    html                           HTML, Javascript, Python   \n",
              "1              javascript                           HTML, Javascript, Python   \n",
              "1                  python                           HTML, Javascript, Python   \n",
              "3              bash/shell  Bash/Shell, C, CSS, HTML, Java, Javascript, PH...   \n",
              "3                       c  Bash/Shell, C, CSS, HTML, Java, Javascript, PH...   \n",
              "...                   ...                                                ...   \n",
              "6093                 java   C, C++, HTML, Java, Javascript, PHP, Python, SQL   \n",
              "6093           javascript   C, C++, HTML, Java, Javascript, PHP, Python, SQL   \n",
              "6093                  php   C, C++, HTML, Java, Javascript, PHP, Python, SQL   \n",
              "6093               python   C, C++, HTML, Java, Javascript, PHP, Python, SQL   \n",
              "6093                  sql   C, C++, HTML, Java, Javascript, PHP, Python, SQL   \n",
              "\n",
              "      salary_monthly_NET work_contract_type profile_studies_level  \\\n",
              "1                63000.0          Full-Time            University   \n",
              "1                63000.0          Full-Time            University   \n",
              "1                63000.0          Full-Time            University   \n",
              "3               102000.0          Full-Time          Postgraduate   \n",
              "3               102000.0          Full-Time          Postgraduate   \n",
              "...                  ...                ...                   ...   \n",
              "6093                72.0          Full-Time              Terciary   \n",
              "6093                72.0          Full-Time              Terciary   \n",
              "6093                72.0          Full-Time              Terciary   \n",
              "6093                72.0          Full-Time              Terciary   \n",
              "6093                72.0          Full-Time              Terciary   \n",
              "\n",
              "                            cured_programming_languages  \n",
              "1                            [html, javascript, python]  \n",
              "1                            [html, javascript, python]  \n",
              "1                            [html, javascript, python]  \n",
              "3     [bash/shell, c, css, html, java, javascript, p...  \n",
              "3     [bash/shell, c, css, html, java, javascript, p...  \n",
              "...                                                 ...  \n",
              "6093  [c, c++, html, java, javascript, php, python, ...  \n",
              "6093  [c, c++, html, java, javascript, php, python, ...  \n",
              "6093  [c, c++, html, java, javascript, php, python, ...  \n",
              "6093  [c, c++, html, java, javascript, php, python, ...  \n",
              "6093  [c, c++, html, java, javascript, php, python, ...  \n",
              "\n",
              "[17702 rows x 6 columns]"
            ],
            "text/html": [
              "\n",
              "  <div id=\"df-514aae6d-7a41-4703-8f5f-7f8eff70e68b\">\n",
              "    <div class=\"colab-df-container\">\n",
              "      <div>\n",
              "<style scoped>\n",
              "    .dataframe tbody tr th:only-of-type {\n",
              "        vertical-align: middle;\n",
              "    }\n",
              "\n",
              "    .dataframe tbody tr th {\n",
              "        vertical-align: top;\n",
              "    }\n",
              "\n",
              "    .dataframe thead th {\n",
              "        text-align: right;\n",
              "    }\n",
              "</style>\n",
              "<table border=\"1\" class=\"dataframe\">\n",
              "  <thead>\n",
              "    <tr style=\"text-align: right;\">\n",
              "      <th></th>\n",
              "      <th>programming_language</th>\n",
              "      <th>tools_programming_languages</th>\n",
              "      <th>salary_monthly_NET</th>\n",
              "      <th>work_contract_type</th>\n",
              "      <th>profile_studies_level</th>\n",
              "      <th>cured_programming_languages</th>\n",
              "    </tr>\n",
              "  </thead>\n",
              "  <tbody>\n",
              "    <tr>\n",
              "      <th>1</th>\n",
              "      <td>html</td>\n",
              "      <td>HTML, Javascript, Python</td>\n",
              "      <td>63000.0</td>\n",
              "      <td>Full-Time</td>\n",
              "      <td>University</td>\n",
              "      <td>[html, javascript, python]</td>\n",
              "    </tr>\n",
              "    <tr>\n",
              "      <th>1</th>\n",
              "      <td>javascript</td>\n",
              "      <td>HTML, Javascript, Python</td>\n",
              "      <td>63000.0</td>\n",
              "      <td>Full-Time</td>\n",
              "      <td>University</td>\n",
              "      <td>[html, javascript, python]</td>\n",
              "    </tr>\n",
              "    <tr>\n",
              "      <th>1</th>\n",
              "      <td>python</td>\n",
              "      <td>HTML, Javascript, Python</td>\n",
              "      <td>63000.0</td>\n",
              "      <td>Full-Time</td>\n",
              "      <td>University</td>\n",
              "      <td>[html, javascript, python]</td>\n",
              "    </tr>\n",
              "    <tr>\n",
              "      <th>3</th>\n",
              "      <td>bash/shell</td>\n",
              "      <td>Bash/Shell, C, CSS, HTML, Java, Javascript, PH...</td>\n",
              "      <td>102000.0</td>\n",
              "      <td>Full-Time</td>\n",
              "      <td>Postgraduate</td>\n",
              "      <td>[bash/shell, c, css, html, java, javascript, p...</td>\n",
              "    </tr>\n",
              "    <tr>\n",
              "      <th>3</th>\n",
              "      <td>c</td>\n",
              "      <td>Bash/Shell, C, CSS, HTML, Java, Javascript, PH...</td>\n",
              "      <td>102000.0</td>\n",
              "      <td>Full-Time</td>\n",
              "      <td>Postgraduate</td>\n",
              "      <td>[bash/shell, c, css, html, java, javascript, p...</td>\n",
              "    </tr>\n",
              "    <tr>\n",
              "      <th>...</th>\n",
              "      <td>...</td>\n",
              "      <td>...</td>\n",
              "      <td>...</td>\n",
              "      <td>...</td>\n",
              "      <td>...</td>\n",
              "      <td>...</td>\n",
              "    </tr>\n",
              "    <tr>\n",
              "      <th>6093</th>\n",
              "      <td>java</td>\n",
              "      <td>C, C++, HTML, Java, Javascript, PHP, Python, SQL</td>\n",
              "      <td>72.0</td>\n",
              "      <td>Full-Time</td>\n",
              "      <td>Terciary</td>\n",
              "      <td>[c, c++, html, java, javascript, php, python, ...</td>\n",
              "    </tr>\n",
              "    <tr>\n",
              "      <th>6093</th>\n",
              "      <td>javascript</td>\n",
              "      <td>C, C++, HTML, Java, Javascript, PHP, Python, SQL</td>\n",
              "      <td>72.0</td>\n",
              "      <td>Full-Time</td>\n",
              "      <td>Terciary</td>\n",
              "      <td>[c, c++, html, java, javascript, php, python, ...</td>\n",
              "    </tr>\n",
              "    <tr>\n",
              "      <th>6093</th>\n",
              "      <td>php</td>\n",
              "      <td>C, C++, HTML, Java, Javascript, PHP, Python, SQL</td>\n",
              "      <td>72.0</td>\n",
              "      <td>Full-Time</td>\n",
              "      <td>Terciary</td>\n",
              "      <td>[c, c++, html, java, javascript, php, python, ...</td>\n",
              "    </tr>\n",
              "    <tr>\n",
              "      <th>6093</th>\n",
              "      <td>python</td>\n",
              "      <td>C, C++, HTML, Java, Javascript, PHP, Python, SQL</td>\n",
              "      <td>72.0</td>\n",
              "      <td>Full-Time</td>\n",
              "      <td>Terciary</td>\n",
              "      <td>[c, c++, html, java, javascript, php, python, ...</td>\n",
              "    </tr>\n",
              "    <tr>\n",
              "      <th>6093</th>\n",
              "      <td>sql</td>\n",
              "      <td>C, C++, HTML, Java, Javascript, PHP, Python, SQL</td>\n",
              "      <td>72.0</td>\n",
              "      <td>Full-Time</td>\n",
              "      <td>Terciary</td>\n",
              "      <td>[c, c++, html, java, javascript, php, python, ...</td>\n",
              "    </tr>\n",
              "  </tbody>\n",
              "</table>\n",
              "<p>17702 rows × 6 columns</p>\n",
              "</div>\n",
              "      <button class=\"colab-df-convert\" onclick=\"convertToInteractive('df-514aae6d-7a41-4703-8f5f-7f8eff70e68b')\"\n",
              "              title=\"Convert this dataframe to an interactive table.\"\n",
              "              style=\"display:none;\">\n",
              "        \n",
              "  <svg xmlns=\"http://www.w3.org/2000/svg\" height=\"24px\"viewBox=\"0 0 24 24\"\n",
              "       width=\"24px\">\n",
              "    <path d=\"M0 0h24v24H0V0z\" fill=\"none\"/>\n",
              "    <path d=\"M18.56 5.44l.94 2.06.94-2.06 2.06-.94-2.06-.94-.94-2.06-.94 2.06-2.06.94zm-11 1L8.5 8.5l.94-2.06 2.06-.94-2.06-.94L8.5 2.5l-.94 2.06-2.06.94zm10 10l.94 2.06.94-2.06 2.06-.94-2.06-.94-.94-2.06-.94 2.06-2.06.94z\"/><path d=\"M17.41 7.96l-1.37-1.37c-.4-.4-.92-.59-1.43-.59-.52 0-1.04.2-1.43.59L10.3 9.45l-7.72 7.72c-.78.78-.78 2.05 0 2.83L4 21.41c.39.39.9.59 1.41.59.51 0 1.02-.2 1.41-.59l7.78-7.78 2.81-2.81c.8-.78.8-2.07 0-2.86zM5.41 20L4 18.59l7.72-7.72 1.47 1.35L5.41 20z\"/>\n",
              "  </svg>\n",
              "      </button>\n",
              "      \n",
              "  <style>\n",
              "    .colab-df-container {\n",
              "      display:flex;\n",
              "      flex-wrap:wrap;\n",
              "      gap: 12px;\n",
              "    }\n",
              "\n",
              "    .colab-df-convert {\n",
              "      background-color: #E8F0FE;\n",
              "      border: none;\n",
              "      border-radius: 50%;\n",
              "      cursor: pointer;\n",
              "      display: none;\n",
              "      fill: #1967D2;\n",
              "      height: 32px;\n",
              "      padding: 0 0 0 0;\n",
              "      width: 32px;\n",
              "    }\n",
              "\n",
              "    .colab-df-convert:hover {\n",
              "      background-color: #E2EBFA;\n",
              "      box-shadow: 0px 1px 2px rgba(60, 64, 67, 0.3), 0px 1px 3px 1px rgba(60, 64, 67, 0.15);\n",
              "      fill: #174EA6;\n",
              "    }\n",
              "\n",
              "    [theme=dark] .colab-df-convert {\n",
              "      background-color: #3B4455;\n",
              "      fill: #D2E3FC;\n",
              "    }\n",
              "\n",
              "    [theme=dark] .colab-df-convert:hover {\n",
              "      background-color: #434B5C;\n",
              "      box-shadow: 0px 1px 3px 1px rgba(0, 0, 0, 0.15);\n",
              "      filter: drop-shadow(0px 1px 2px rgba(0, 0, 0, 0.3));\n",
              "      fill: #FFFFFF;\n",
              "    }\n",
              "  </style>\n",
              "\n",
              "      <script>\n",
              "        const buttonEl =\n",
              "          document.querySelector('#df-514aae6d-7a41-4703-8f5f-7f8eff70e68b button.colab-df-convert');\n",
              "        buttonEl.style.display =\n",
              "          google.colab.kernel.accessAllowed ? 'block' : 'none';\n",
              "\n",
              "        async function convertToInteractive(key) {\n",
              "          const element = document.querySelector('#df-514aae6d-7a41-4703-8f5f-7f8eff70e68b');\n",
              "          const dataTable =\n",
              "            await google.colab.kernel.invokeFunction('convertToInteractive',\n",
              "                                                     [key], {});\n",
              "          if (!dataTable) return;\n",
              "\n",
              "          const docLinkHtml = 'Like what you see? Visit the ' +\n",
              "            '<a target=\"_blank\" href=https://colab.research.google.com/notebooks/data_table.ipynb>data table notebook</a>'\n",
              "            + ' to learn more about interactive tables.';\n",
              "          element.innerHTML = '';\n",
              "          dataTable['output_type'] = 'display_data';\n",
              "          await google.colab.output.renderOutput(dataTable, element);\n",
              "          const docLink = document.createElement('div');\n",
              "          docLink.innerHTML = docLinkHtml;\n",
              "          element.appendChild(docLink);\n",
              "        }\n",
              "      </script>\n",
              "    </div>\n",
              "  </div>\n",
              "  "
            ]
          },
          "metadata": {},
          "execution_count": 10
        }
      ],
      "source": [
        "df_lang"
      ]
    },
    {
      "cell_type": "markdown",
      "metadata": {
        "id": "AdcRme8LQq8y"
      },
      "source": [
        "We remove `tools_programming_language` and `cured_programming_language` as we are not going to use them."
      ]
    },
    {
      "cell_type": "code",
      "execution_count": null,
      "metadata": {
        "id": "1k9T3gyVQq8z"
      },
      "outputs": [],
      "source": [
        "df_lang = df_lang.drop(columns=[\"tools_programming_languages\", \"cured_programming_languages\"])"
      ]
    },
    {
      "cell_type": "code",
      "execution_count": null,
      "metadata": {
        "id": "bLdR6qc2Qq8z",
        "outputId": "87169fa7-13f3-466e-924c-d48bb2240157"
      },
      "outputs": [
        {
          "data": {
            "text/html": [
              "<div>\n",
              "<style scoped>\n",
              "    .dataframe tbody tr th:only-of-type {\n",
              "        vertical-align: middle;\n",
              "    }\n",
              "\n",
              "    .dataframe tbody tr th {\n",
              "        vertical-align: top;\n",
              "    }\n",
              "\n",
              "    .dataframe thead th {\n",
              "        text-align: right;\n",
              "    }\n",
              "</style>\n",
              "<table border=\"1\" class=\"dataframe\">\n",
              "  <thead>\n",
              "    <tr style=\"text-align: right;\">\n",
              "      <th></th>\n",
              "      <th>programming_language</th>\n",
              "      <th>salary_monthly_NET</th>\n",
              "      <th>work_contract_type</th>\n",
              "      <th>profile_studies_level</th>\n",
              "    </tr>\n",
              "  </thead>\n",
              "  <tbody>\n",
              "    <tr>\n",
              "      <th>1</th>\n",
              "      <td>html</td>\n",
              "      <td>63000.0</td>\n",
              "      <td>Full-Time</td>\n",
              "      <td>University</td>\n",
              "    </tr>\n",
              "    <tr>\n",
              "      <th>1</th>\n",
              "      <td>javascript</td>\n",
              "      <td>63000.0</td>\n",
              "      <td>Full-Time</td>\n",
              "      <td>University</td>\n",
              "    </tr>\n",
              "    <tr>\n",
              "      <th>1</th>\n",
              "      <td>python</td>\n",
              "      <td>63000.0</td>\n",
              "      <td>Full-Time</td>\n",
              "      <td>University</td>\n",
              "    </tr>\n",
              "    <tr>\n",
              "      <th>3</th>\n",
              "      <td>bash/shell</td>\n",
              "      <td>102000.0</td>\n",
              "      <td>Full-Time</td>\n",
              "      <td>Postgraduate</td>\n",
              "    </tr>\n",
              "    <tr>\n",
              "      <th>3</th>\n",
              "      <td>c</td>\n",
              "      <td>102000.0</td>\n",
              "      <td>Full-Time</td>\n",
              "      <td>Postgraduate</td>\n",
              "    </tr>\n",
              "    <tr>\n",
              "      <th>...</th>\n",
              "      <td>...</td>\n",
              "      <td>...</td>\n",
              "      <td>...</td>\n",
              "      <td>...</td>\n",
              "    </tr>\n",
              "    <tr>\n",
              "      <th>6093</th>\n",
              "      <td>java</td>\n",
              "      <td>72.0</td>\n",
              "      <td>Full-Time</td>\n",
              "      <td>Terciary</td>\n",
              "    </tr>\n",
              "    <tr>\n",
              "      <th>6093</th>\n",
              "      <td>javascript</td>\n",
              "      <td>72.0</td>\n",
              "      <td>Full-Time</td>\n",
              "      <td>Terciary</td>\n",
              "    </tr>\n",
              "    <tr>\n",
              "      <th>6093</th>\n",
              "      <td>php</td>\n",
              "      <td>72.0</td>\n",
              "      <td>Full-Time</td>\n",
              "      <td>Terciary</td>\n",
              "    </tr>\n",
              "    <tr>\n",
              "      <th>6093</th>\n",
              "      <td>python</td>\n",
              "      <td>72.0</td>\n",
              "      <td>Full-Time</td>\n",
              "      <td>Terciary</td>\n",
              "    </tr>\n",
              "    <tr>\n",
              "      <th>6093</th>\n",
              "      <td>sql</td>\n",
              "      <td>72.0</td>\n",
              "      <td>Full-Time</td>\n",
              "      <td>Terciary</td>\n",
              "    </tr>\n",
              "  </tbody>\n",
              "</table>\n",
              "<p>17702 rows × 4 columns</p>\n",
              "</div>"
            ],
            "text/plain": [
              "     programming_language  salary_monthly_NET work_contract_type  \\\n",
              "1                    html             63000.0          Full-Time   \n",
              "1              javascript             63000.0          Full-Time   \n",
              "1                  python             63000.0          Full-Time   \n",
              "3              bash/shell            102000.0          Full-Time   \n",
              "3                       c            102000.0          Full-Time   \n",
              "...                   ...                 ...                ...   \n",
              "6093                 java                72.0          Full-Time   \n",
              "6093           javascript                72.0          Full-Time   \n",
              "6093                  php                72.0          Full-Time   \n",
              "6093               python                72.0          Full-Time   \n",
              "6093                  sql                72.0          Full-Time   \n",
              "\n",
              "     profile_studies_level  \n",
              "1               University  \n",
              "1               University  \n",
              "1               University  \n",
              "3             Postgraduate  \n",
              "3             Postgraduate  \n",
              "...                    ...  \n",
              "6093              Terciary  \n",
              "6093              Terciary  \n",
              "6093              Terciary  \n",
              "6093              Terciary  \n",
              "6093              Terciary  \n",
              "\n",
              "[17702 rows x 4 columns]"
            ]
          },
          "execution_count": 38,
          "metadata": {},
          "output_type": "execute_result"
        }
      ],
      "source": [
        "df_lang"
      ]
    },
    {
      "cell_type": "markdown",
      "metadata": {
        "id": "ZdmoXBAGQq8z"
      },
      "source": [
        "## Option 1:\n",
        "\n",
        "Let's try comparing salary distributions for each language using visualizations. First, we can check how many languages we have in our dataset."
      ]
    },
    {
      "cell_type": "code",
      "execution_count": null,
      "metadata": {
        "id": "8-SMQu0tQq8z",
        "outputId": "1c16f2b2-0837-4fd1-9055-1d018d7fd0b4"
      },
      "outputs": [
        {
          "data": {
            "text/plain": [
              "207"
            ]
          },
          "execution_count": 39,
          "metadata": {},
          "output_type": "execute_result"
        }
      ],
      "source": [
        "df_lang[\"programming_language\"].nunique()"
      ]
    },
    {
      "cell_type": "code",
      "execution_count": null,
      "metadata": {
        "id": "eFyLHAXjQq8z",
        "outputId": "9e34a1b6-d730-42f1-9371-e9b8e8cfa56c"
      },
      "outputs": [
        {
          "data": {
            "text/plain": [
              "javascript    2513\n",
              "sql           2154\n",
              "html          1861\n",
              "python        1475\n",
              "java          1453\n",
              "              ... \n",
              "powercli         1\n",
              "boomi            1\n",
              "dell             1\n",
              "x++              1\n",
              "infobasic        1\n",
              "Name: programming_language, Length: 207, dtype: int64"
            ]
          },
          "execution_count": 40,
          "metadata": {},
          "output_type": "execute_result"
        }
      ],
      "source": [
        "df_lang[\"programming_language\"].value_counts()"
      ]
    },
    {
      "cell_type": "markdown",
      "metadata": {
        "id": "3nazjb_SQq8z"
      },
      "source": [
        "Also, some languages only have one instance. Such is the case of `infobasic`, `x++`, `dell`, among others. In addition, analyzing distribution with not enough samples leads to high variance. So we can compare the salary distributions with the 5 most programming languages."
      ]
    },
    {
      "cell_type": "code",
      "execution_count": null,
      "metadata": {
        "id": "OMthfvffQq8z"
      },
      "outputs": [],
      "source": [
        "most_used_langs = (\n",
        "    df_lang.programming_language\n",
        "    .value_counts()\n",
        "    .sort_values(ascending=False)\n",
        "    .head(5)\n",
        ")"
      ]
    },
    {
      "cell_type": "code",
      "execution_count": null,
      "metadata": {
        "id": "B7-l-I5sQq8z",
        "outputId": "1cbcf0ce-5987-455d-d73f-f9e6162cc726"
      },
      "outputs": [
        {
          "data": {
            "text/plain": [
              "javascript    2513\n",
              "sql           2154\n",
              "html          1861\n",
              "python        1475\n",
              "java          1453\n",
              "Name: programming_language, dtype: int64"
            ]
          },
          "execution_count": 42,
          "metadata": {},
          "output_type": "execute_result"
        }
      ],
      "source": [
        "most_used_langs"
      ]
    },
    {
      "cell_type": "code",
      "execution_count": null,
      "metadata": {
        "id": "wyNW8PlIQq8z",
        "outputId": "d8379a2f-dafc-4700-e607-c98c8a27aed8"
      },
      "outputs": [
        {
          "data": {
            "text/plain": [
              "Index(['javascript', 'sql', 'html', 'python', 'java'], dtype='object')"
            ]
          },
          "execution_count": 43,
          "metadata": {},
          "output_type": "execute_result"
        }
      ],
      "source": [
        "most_used_langs.index"
      ]
    },
    {
      "cell_type": "code",
      "execution_count": null,
      "metadata": {
        "id": "XpBP5kigQq8z",
        "outputId": "1af09885-7367-41ee-cfa0-0b05a0553a6a"
      },
      "outputs": [
        {
          "data": {
            "text/html": [
              "<div>\n",
              "<style scoped>\n",
              "    .dataframe tbody tr th:only-of-type {\n",
              "        vertical-align: middle;\n",
              "    }\n",
              "\n",
              "    .dataframe tbody tr th {\n",
              "        vertical-align: top;\n",
              "    }\n",
              "\n",
              "    .dataframe thead th {\n",
              "        text-align: right;\n",
              "    }\n",
              "</style>\n",
              "<table border=\"1\" class=\"dataframe\">\n",
              "  <thead>\n",
              "    <tr style=\"text-align: right;\">\n",
              "      <th></th>\n",
              "      <th>programming_language</th>\n",
              "      <th>salary_monthly_NET</th>\n",
              "      <th>work_contract_type</th>\n",
              "      <th>profile_studies_level</th>\n",
              "    </tr>\n",
              "  </thead>\n",
              "  <tbody>\n",
              "    <tr>\n",
              "      <th>1</th>\n",
              "      <td>html</td>\n",
              "      <td>63000.0</td>\n",
              "      <td>Full-Time</td>\n",
              "      <td>University</td>\n",
              "    </tr>\n",
              "    <tr>\n",
              "      <th>1</th>\n",
              "      <td>javascript</td>\n",
              "      <td>63000.0</td>\n",
              "      <td>Full-Time</td>\n",
              "      <td>University</td>\n",
              "    </tr>\n",
              "    <tr>\n",
              "      <th>1</th>\n",
              "      <td>python</td>\n",
              "      <td>63000.0</td>\n",
              "      <td>Full-Time</td>\n",
              "      <td>University</td>\n",
              "    </tr>\n",
              "    <tr>\n",
              "      <th>3</th>\n",
              "      <td>html</td>\n",
              "      <td>102000.0</td>\n",
              "      <td>Full-Time</td>\n",
              "      <td>Postgraduate</td>\n",
              "    </tr>\n",
              "    <tr>\n",
              "      <th>3</th>\n",
              "      <td>java</td>\n",
              "      <td>102000.0</td>\n",
              "      <td>Full-Time</td>\n",
              "      <td>Postgraduate</td>\n",
              "    </tr>\n",
              "    <tr>\n",
              "      <th>...</th>\n",
              "      <td>...</td>\n",
              "      <td>...</td>\n",
              "      <td>...</td>\n",
              "      <td>...</td>\n",
              "    </tr>\n",
              "    <tr>\n",
              "      <th>6093</th>\n",
              "      <td>html</td>\n",
              "      <td>72.0</td>\n",
              "      <td>Full-Time</td>\n",
              "      <td>Terciary</td>\n",
              "    </tr>\n",
              "    <tr>\n",
              "      <th>6093</th>\n",
              "      <td>java</td>\n",
              "      <td>72.0</td>\n",
              "      <td>Full-Time</td>\n",
              "      <td>Terciary</td>\n",
              "    </tr>\n",
              "    <tr>\n",
              "      <th>6093</th>\n",
              "      <td>javascript</td>\n",
              "      <td>72.0</td>\n",
              "      <td>Full-Time</td>\n",
              "      <td>Terciary</td>\n",
              "    </tr>\n",
              "    <tr>\n",
              "      <th>6093</th>\n",
              "      <td>python</td>\n",
              "      <td>72.0</td>\n",
              "      <td>Full-Time</td>\n",
              "      <td>Terciary</td>\n",
              "    </tr>\n",
              "    <tr>\n",
              "      <th>6093</th>\n",
              "      <td>sql</td>\n",
              "      <td>72.0</td>\n",
              "      <td>Full-Time</td>\n",
              "      <td>Terciary</td>\n",
              "    </tr>\n",
              "  </tbody>\n",
              "</table>\n",
              "<p>9456 rows × 4 columns</p>\n",
              "</div>"
            ],
            "text/plain": [
              "     programming_language  salary_monthly_NET work_contract_type  \\\n",
              "1                    html             63000.0          Full-Time   \n",
              "1              javascript             63000.0          Full-Time   \n",
              "1                  python             63000.0          Full-Time   \n",
              "3                    html            102000.0          Full-Time   \n",
              "3                    java            102000.0          Full-Time   \n",
              "...                   ...                 ...                ...   \n",
              "6093                 html                72.0          Full-Time   \n",
              "6093                 java                72.0          Full-Time   \n",
              "6093           javascript                72.0          Full-Time   \n",
              "6093               python                72.0          Full-Time   \n",
              "6093                  sql                72.0          Full-Time   \n",
              "\n",
              "     profile_studies_level  \n",
              "1               University  \n",
              "1               University  \n",
              "1               University  \n",
              "3             Postgraduate  \n",
              "3             Postgraduate  \n",
              "...                    ...  \n",
              "6093              Terciary  \n",
              "6093              Terciary  \n",
              "6093              Terciary  \n",
              "6093              Terciary  \n",
              "6093              Terciary  \n",
              "\n",
              "[9456 rows x 4 columns]"
            ]
          },
          "execution_count": 44,
          "metadata": {},
          "output_type": "execute_result"
        }
      ],
      "source": [
        "interesting_languages = most_used_langs.index\n",
        "filtered_df_lang = df_lang[df_lang.programming_language.isin(interesting_languages)]\n",
        "filtered_df_lang"
      ]
    },
    {
      "cell_type": "code",
      "execution_count": null,
      "metadata": {
        "id": "M0hZEFRuQq8z",
        "outputId": "6ff577ec-6874-4a4f-a7d6-bbe185945965"
      },
      "outputs": [
        {
          "data": {
            "image/png": "[encoded data removed]",
            "text/plain": [
              "<Figure size 1800x360 with 5 Axes>"
            ]
          },
          "metadata": {
            "needs_background": "light"
          },
          "output_type": "display_data"
        }
      ],
      "source": [
        "seaborn.displot(data=filtered_df_lang.reset_index(), x=\"salary_monthly_NET\", col=\"programming_language\")\n",
        "plt.xlim(0, 200000)\n",
        "plt.savefig(\"displots_for_each_lang.png\")"
      ]
    },
    {
      "cell_type": "code",
      "execution_count": null,
      "metadata": {
        "id": "mnuY0eLdQq8z"
      },
      "outputs": [],
      "source": []
    },
    {
      "cell_type": "markdown",
      "metadata": {
        "id": "vwbNbBUfQq8z"
      },
      "source": [
        "Each of the 5 most used programming languages distributes similarly, where the majority of them earn between $40000 and $100000."
      ]
    },
    {
      "cell_type": "markdown",
      "metadata": {
        "id": "AVxX9iHsQq8z"
      },
      "source": [
        "## Option 2:\n",
        "\n",
        "Compare measures of descriptive statistics on salary distribution for each language.\n",
        "\n",
        "We can make a barplot with the mean for each programming language."
      ]
    },
    {
      "cell_type": "code",
      "execution_count": null,
      "metadata": {
        "id": "X-cmZ58UQq80",
        "outputId": "8d197efe-c66a-4b5c-a3f3-5cf19feab62a"
      },
      "outputs": [
        {
          "data": {
            "text/html": [
              "<div>\n",
              "<style scoped>\n",
              "    .dataframe tbody tr th:only-of-type {\n",
              "        vertical-align: middle;\n",
              "    }\n",
              "\n",
              "    .dataframe tbody tr th {\n",
              "        vertical-align: top;\n",
              "    }\n",
              "\n",
              "    .dataframe thead th {\n",
              "        text-align: right;\n",
              "    }\n",
              "</style>\n",
              "<table border=\"1\" class=\"dataframe\">\n",
              "  <thead>\n",
              "    <tr style=\"text-align: right;\">\n",
              "      <th></th>\n",
              "      <th>programming_language</th>\n",
              "      <th>salary_monthly_NET</th>\n",
              "      <th>work_contract_type</th>\n",
              "      <th>profile_studies_level</th>\n",
              "    </tr>\n",
              "  </thead>\n",
              "  <tbody>\n",
              "    <tr>\n",
              "      <th>1</th>\n",
              "      <td>html</td>\n",
              "      <td>63000.0</td>\n",
              "      <td>Full-Time</td>\n",
              "      <td>University</td>\n",
              "    </tr>\n",
              "    <tr>\n",
              "      <th>1</th>\n",
              "      <td>javascript</td>\n",
              "      <td>63000.0</td>\n",
              "      <td>Full-Time</td>\n",
              "      <td>University</td>\n",
              "    </tr>\n",
              "    <tr>\n",
              "      <th>1</th>\n",
              "      <td>python</td>\n",
              "      <td>63000.0</td>\n",
              "      <td>Full-Time</td>\n",
              "      <td>University</td>\n",
              "    </tr>\n",
              "    <tr>\n",
              "      <th>3</th>\n",
              "      <td>html</td>\n",
              "      <td>102000.0</td>\n",
              "      <td>Full-Time</td>\n",
              "      <td>Postgraduate</td>\n",
              "    </tr>\n",
              "    <tr>\n",
              "      <th>3</th>\n",
              "      <td>java</td>\n",
              "      <td>102000.0</td>\n",
              "      <td>Full-Time</td>\n",
              "      <td>Postgraduate</td>\n",
              "    </tr>\n",
              "    <tr>\n",
              "      <th>...</th>\n",
              "      <td>...</td>\n",
              "      <td>...</td>\n",
              "      <td>...</td>\n",
              "      <td>...</td>\n",
              "    </tr>\n",
              "    <tr>\n",
              "      <th>6093</th>\n",
              "      <td>html</td>\n",
              "      <td>72.0</td>\n",
              "      <td>Full-Time</td>\n",
              "      <td>Terciary</td>\n",
              "    </tr>\n",
              "    <tr>\n",
              "      <th>6093</th>\n",
              "      <td>java</td>\n",
              "      <td>72.0</td>\n",
              "      <td>Full-Time</td>\n",
              "      <td>Terciary</td>\n",
              "    </tr>\n",
              "    <tr>\n",
              "      <th>6093</th>\n",
              "      <td>javascript</td>\n",
              "      <td>72.0</td>\n",
              "      <td>Full-Time</td>\n",
              "      <td>Terciary</td>\n",
              "    </tr>\n",
              "    <tr>\n",
              "      <th>6093</th>\n",
              "      <td>python</td>\n",
              "      <td>72.0</td>\n",
              "      <td>Full-Time</td>\n",
              "      <td>Terciary</td>\n",
              "    </tr>\n",
              "    <tr>\n",
              "      <th>6093</th>\n",
              "      <td>sql</td>\n",
              "      <td>72.0</td>\n",
              "      <td>Full-Time</td>\n",
              "      <td>Terciary</td>\n",
              "    </tr>\n",
              "  </tbody>\n",
              "</table>\n",
              "<p>9456 rows × 4 columns</p>\n",
              "</div>"
            ],
            "text/plain": [
              "     programming_language  salary_monthly_NET work_contract_type  \\\n",
              "1                    html             63000.0          Full-Time   \n",
              "1              javascript             63000.0          Full-Time   \n",
              "1                  python             63000.0          Full-Time   \n",
              "3                    html            102000.0          Full-Time   \n",
              "3                    java            102000.0          Full-Time   \n",
              "...                   ...                 ...                ...   \n",
              "6093                 html                72.0          Full-Time   \n",
              "6093                 java                72.0          Full-Time   \n",
              "6093           javascript                72.0          Full-Time   \n",
              "6093               python                72.0          Full-Time   \n",
              "6093                  sql                72.0          Full-Time   \n",
              "\n",
              "     profile_studies_level  \n",
              "1               University  \n",
              "1               University  \n",
              "1               University  \n",
              "3             Postgraduate  \n",
              "3             Postgraduate  \n",
              "...                    ...  \n",
              "6093              Terciary  \n",
              "6093              Terciary  \n",
              "6093              Terciary  \n",
              "6093              Terciary  \n",
              "6093              Terciary  \n",
              "\n",
              "[9456 rows x 4 columns]"
            ]
          },
          "execution_count": 46,
          "metadata": {},
          "output_type": "execute_result"
        }
      ],
      "source": [
        "filtered_df_lang"
      ]
    },
    {
      "cell_type": "code",
      "execution_count": null,
      "metadata": {
        "id": "kxrEqIAGQq80",
        "outputId": "309e009c-7a8e-4e5a-d4d0-1350f473f9af"
      },
      "outputs": [
        {
          "data": {
            "image/png": "[encoded data removed]",
            "text/plain": [
              "<Figure size 720x432 with 1 Axes>"
            ]
          },
          "metadata": {
            "needs_background": "light"
          },
          "output_type": "display_data"
        }
      ],
      "source": [
        "plt.figure(figsize=(10,6))\n",
        "seaborn.barplot(data=filtered_df_lang, x=\"salary_monthly_NET\", y=\"programming_language\")\n",
        "plt.savefig(\"barplots_for_lang.png\")"
      ]
    },
    {
      "cell_type": "markdown",
      "metadata": {
        "id": "bw--VXZpQq80"
      },
      "source": [
        "Here we can say that, on average, the people who use the 5 most common programming languages earn over $80000."
      ]
    },
    {
      "cell_type": "markdown",
      "metadata": {
        "id": "QGS7kACeQq80"
      },
      "source": [
        "## Option 3:\n",
        "\n",
        "The third option is using probabilities. Let's suppose that $L_{i}$ is one of the 5 most used programming languages. Let's calculate the conditional probability of earning more than $50000 if you use $L_{i}$, that is, $P(A|L_{i})$.\n",
        "\n",
        "$$P(> \\$50000 |L_{i}) = \\frac{P(> \\$50000 \\cap L_{i})}{P(L_{i})}$$\n",
        "\n",
        "This is equivalent to:\n",
        "\n",
        "$$P(> \\$50000|L_{i}) = \\frac{|> \\$50000 \\cap L_{i}|}{|L_{i}|}$$\n"
      ]
    },
    {
      "cell_type": "code",
      "execution_count": null,
      "metadata": {
        "id": "Ky92eJLsQq80"
      },
      "outputs": [],
      "source": [
        "is_above_50000 = df_lang[\"salary_monthly_NET\"] > 50000\n",
        "uses_python = df_lang[\"programming_language\"] == \"python\"\n",
        "\n",
        "intersection_count = len(df_lang[is_above_50000 & uses_python])"
      ]
    },
    {
      "cell_type": "code",
      "execution_count": null,
      "metadata": {
        "id": "0b87k4HtQq80",
        "outputId": "549c21b3-a190-43aa-c726-96d9f7709b01"
      },
      "outputs": [
        {
          "data": {
            "text/plain": [
              "0.8108474576271186"
            ]
          },
          "execution_count": 49,
          "metadata": {},
          "output_type": "execute_result"
        }
      ],
      "source": [
        "intersection_count / len(df_lang[uses_python])"
      ]
    },
    {
      "cell_type": "markdown",
      "metadata": {
        "id": "UKnIOlmoQq80"
      },
      "source": [
        "## Other things to work out\n",
        "\n",
        "What can we do with the other two columns, `work_contract_type`, and `profile_studies_level`? We might restrict our question by only considering in our analysis people who have a full-time contract type or with a university degree. This might make the comparison fairer and avoid introducing any biases."
      ]
    },
    {
      "cell_type": "code",
      "execution_count": null,
      "metadata": {
        "id": "rfNwPhXoQq80",
        "outputId": "160a1fd4-c13c-4ee4-af81-f1c2e3370d2f"
      },
      "outputs": [
        {
          "data": {
            "text/plain": [
              "1        True\n",
              "1        True\n",
              "1        True\n",
              "3       False\n",
              "3       False\n",
              "        ...  \n",
              "6093    False\n",
              "6093    False\n",
              "6093    False\n",
              "6093    False\n",
              "6093    False\n",
              "Name: profile_studies_level, Length: 17702, dtype: bool"
            ]
          },
          "execution_count": 50,
          "metadata": {},
          "output_type": "execute_result"
        }
      ],
      "source": [
        "df_lang[\"profile_studies_level\"] == \"University\""
      ]
    },
    {
      "cell_type": "code",
      "execution_count": null,
      "metadata": {
        "id": "ppLRJqAcQq80",
        "outputId": "b2b3e7fc-1347-45da-d688-6cad72a4acf1"
      },
      "outputs": [
        {
          "data": {
            "text/html": [
              "<div>\n",
              "<style scoped>\n",
              "    .dataframe tbody tr th:only-of-type {\n",
              "        vertical-align: middle;\n",
              "    }\n",
              "\n",
              "    .dataframe tbody tr th {\n",
              "        vertical-align: top;\n",
              "    }\n",
              "\n",
              "    .dataframe thead th {\n",
              "        text-align: right;\n",
              "    }\n",
              "</style>\n",
              "<table border=\"1\" class=\"dataframe\">\n",
              "  <thead>\n",
              "    <tr style=\"text-align: right;\">\n",
              "      <th></th>\n",
              "      <th>programming_language</th>\n",
              "      <th>salary_monthly_NET</th>\n",
              "      <th>work_contract_type</th>\n",
              "      <th>profile_studies_level</th>\n",
              "    </tr>\n",
              "  </thead>\n",
              "  <tbody>\n",
              "    <tr>\n",
              "      <th>1</th>\n",
              "      <td>html</td>\n",
              "      <td>63000.0</td>\n",
              "      <td>Full-Time</td>\n",
              "      <td>University</td>\n",
              "    </tr>\n",
              "    <tr>\n",
              "      <th>1</th>\n",
              "      <td>javascript</td>\n",
              "      <td>63000.0</td>\n",
              "      <td>Full-Time</td>\n",
              "      <td>University</td>\n",
              "    </tr>\n",
              "    <tr>\n",
              "      <th>1</th>\n",
              "      <td>python</td>\n",
              "      <td>63000.0</td>\n",
              "      <td>Full-Time</td>\n",
              "      <td>University</td>\n",
              "    </tr>\n",
              "    <tr>\n",
              "      <th>4</th>\n",
              "      <td>css</td>\n",
              "      <td>106000.0</td>\n",
              "      <td>Full-Time</td>\n",
              "      <td>University</td>\n",
              "    </tr>\n",
              "    <tr>\n",
              "      <th>4</th>\n",
              "      <td>html</td>\n",
              "      <td>106000.0</td>\n",
              "      <td>Full-Time</td>\n",
              "      <td>University</td>\n",
              "    </tr>\n",
              "    <tr>\n",
              "      <th>...</th>\n",
              "      <td>...</td>\n",
              "      <td>...</td>\n",
              "      <td>...</td>\n",
              "      <td>...</td>\n",
              "    </tr>\n",
              "    <tr>\n",
              "      <th>6086</th>\n",
              "      <td>sql</td>\n",
              "      <td>82000.0</td>\n",
              "      <td>Full-Time</td>\n",
              "      <td>University</td>\n",
              "    </tr>\n",
              "    <tr>\n",
              "      <th>6087</th>\n",
              "      <td>python</td>\n",
              "      <td>120000.0</td>\n",
              "      <td>Full-Time</td>\n",
              "      <td>University</td>\n",
              "    </tr>\n",
              "    <tr>\n",
              "      <th>6089</th>\n",
              "      <td>bash/shell</td>\n",
              "      <td>130000.0</td>\n",
              "      <td>Full-Time</td>\n",
              "      <td>University</td>\n",
              "    </tr>\n",
              "    <tr>\n",
              "      <th>6089</th>\n",
              "      <td>python</td>\n",
              "      <td>130000.0</td>\n",
              "      <td>Full-Time</td>\n",
              "      <td>University</td>\n",
              "    </tr>\n",
              "    <tr>\n",
              "      <th>6089</th>\n",
              "      <td>sql</td>\n",
              "      <td>130000.0</td>\n",
              "      <td>Full-Time</td>\n",
              "      <td>University</td>\n",
              "    </tr>\n",
              "  </tbody>\n",
              "</table>\n",
              "<p>10278 rows × 4 columns</p>\n",
              "</div>"
            ],
            "text/plain": [
              "     programming_language  salary_monthly_NET work_contract_type  \\\n",
              "1                    html             63000.0          Full-Time   \n",
              "1              javascript             63000.0          Full-Time   \n",
              "1                  python             63000.0          Full-Time   \n",
              "4                     css            106000.0          Full-Time   \n",
              "4                    html            106000.0          Full-Time   \n",
              "...                   ...                 ...                ...   \n",
              "6086                  sql             82000.0          Full-Time   \n",
              "6087               python            120000.0          Full-Time   \n",
              "6089           bash/shell            130000.0          Full-Time   \n",
              "6089               python            130000.0          Full-Time   \n",
              "6089                  sql            130000.0          Full-Time   \n",
              "\n",
              "     profile_studies_level  \n",
              "1               University  \n",
              "1               University  \n",
              "1               University  \n",
              "4               University  \n",
              "4               University  \n",
              "...                    ...  \n",
              "6086            University  \n",
              "6087            University  \n",
              "6089            University  \n",
              "6089            University  \n",
              "6089            University  \n",
              "\n",
              "[10278 rows x 4 columns]"
            ]
          },
          "execution_count": 51,
          "metadata": {},
          "output_type": "execute_result"
        }
      ],
      "source": [
        "df_lang[(df_lang[\"work_contract_type\"] == \"Full-Time\") & (df_lang[\"profile_studies_level\"] == \"University\")]"
      ]
    },
    {
      "cell_type": "code",
      "execution_count": null,
      "metadata": {
        "id": "bc1oZHMoQq80"
      },
      "outputs": [],
      "source": [
        "filtered_df_lang = filtered_df_lang[\n",
        "    (filtered_df_lang[\"work_contract_type\"] == \"Full-Time\") &\n",
        "    (filtered_df_lang[\"profile_studies_level\"] == \"University\")\n",
        "]"
      ]
    },
    {
      "cell_type": "code",
      "execution_count": null,
      "metadata": {
        "id": "i_xHtF0hQq80",
        "outputId": "71458e53-f8c7-438c-c23c-97b0003a3745"
      },
      "outputs": [
        {
          "data": {
            "text/html": [
              "<div>\n",
              "<style scoped>\n",
              "    .dataframe tbody tr th:only-of-type {\n",
              "        vertical-align: middle;\n",
              "    }\n",
              "\n",
              "    .dataframe tbody tr th {\n",
              "        vertical-align: top;\n",
              "    }\n",
              "\n",
              "    .dataframe thead th {\n",
              "        text-align: right;\n",
              "    }\n",
              "</style>\n",
              "<table border=\"1\" class=\"dataframe\">\n",
              "  <thead>\n",
              "    <tr style=\"text-align: right;\">\n",
              "      <th></th>\n",
              "      <th>programming_language</th>\n",
              "      <th>salary_monthly_NET</th>\n",
              "      <th>work_contract_type</th>\n",
              "      <th>profile_studies_level</th>\n",
              "    </tr>\n",
              "  </thead>\n",
              "  <tbody>\n",
              "    <tr>\n",
              "      <th>1</th>\n",
              "      <td>html</td>\n",
              "      <td>63000.0</td>\n",
              "      <td>Full-Time</td>\n",
              "      <td>University</td>\n",
              "    </tr>\n",
              "    <tr>\n",
              "      <th>1</th>\n",
              "      <td>javascript</td>\n",
              "      <td>63000.0</td>\n",
              "      <td>Full-Time</td>\n",
              "      <td>University</td>\n",
              "    </tr>\n",
              "    <tr>\n",
              "      <th>1</th>\n",
              "      <td>python</td>\n",
              "      <td>63000.0</td>\n",
              "      <td>Full-Time</td>\n",
              "      <td>University</td>\n",
              "    </tr>\n",
              "    <tr>\n",
              "      <th>4</th>\n",
              "      <td>html</td>\n",
              "      <td>106000.0</td>\n",
              "      <td>Full-Time</td>\n",
              "      <td>University</td>\n",
              "    </tr>\n",
              "    <tr>\n",
              "      <th>4</th>\n",
              "      <td>javascript</td>\n",
              "      <td>106000.0</td>\n",
              "      <td>Full-Time</td>\n",
              "      <td>University</td>\n",
              "    </tr>\n",
              "    <tr>\n",
              "      <th>...</th>\n",
              "      <td>...</td>\n",
              "      <td>...</td>\n",
              "      <td>...</td>\n",
              "      <td>...</td>\n",
              "    </tr>\n",
              "    <tr>\n",
              "      <th>6086</th>\n",
              "      <td>python</td>\n",
              "      <td>82000.0</td>\n",
              "      <td>Full-Time</td>\n",
              "      <td>University</td>\n",
              "    </tr>\n",
              "    <tr>\n",
              "      <th>6086</th>\n",
              "      <td>sql</td>\n",
              "      <td>82000.0</td>\n",
              "      <td>Full-Time</td>\n",
              "      <td>University</td>\n",
              "    </tr>\n",
              "    <tr>\n",
              "      <th>6087</th>\n",
              "      <td>python</td>\n",
              "      <td>120000.0</td>\n",
              "      <td>Full-Time</td>\n",
              "      <td>University</td>\n",
              "    </tr>\n",
              "    <tr>\n",
              "      <th>6089</th>\n",
              "      <td>python</td>\n",
              "      <td>130000.0</td>\n",
              "      <td>Full-Time</td>\n",
              "      <td>University</td>\n",
              "    </tr>\n",
              "    <tr>\n",
              "      <th>6089</th>\n",
              "      <td>sql</td>\n",
              "      <td>130000.0</td>\n",
              "      <td>Full-Time</td>\n",
              "      <td>University</td>\n",
              "    </tr>\n",
              "  </tbody>\n",
              "</table>\n",
              "<p>5528 rows × 4 columns</p>\n",
              "</div>"
            ],
            "text/plain": [
              "     programming_language  salary_monthly_NET work_contract_type  \\\n",
              "1                    html             63000.0          Full-Time   \n",
              "1              javascript             63000.0          Full-Time   \n",
              "1                  python             63000.0          Full-Time   \n",
              "4                    html            106000.0          Full-Time   \n",
              "4              javascript            106000.0          Full-Time   \n",
              "...                   ...                 ...                ...   \n",
              "6086               python             82000.0          Full-Time   \n",
              "6086                  sql             82000.0          Full-Time   \n",
              "6087               python            120000.0          Full-Time   \n",
              "6089               python            130000.0          Full-Time   \n",
              "6089                  sql            130000.0          Full-Time   \n",
              "\n",
              "     profile_studies_level  \n",
              "1               University  \n",
              "1               University  \n",
              "1               University  \n",
              "4               University  \n",
              "4               University  \n",
              "...                    ...  \n",
              "6086            University  \n",
              "6086            University  \n",
              "6087            University  \n",
              "6089            University  \n",
              "6089            University  \n",
              "\n",
              "[5528 rows x 4 columns]"
            ]
          },
          "execution_count": 53,
          "metadata": {},
          "output_type": "execute_result"
        }
      ],
      "source": [
        "filtered_df_lang"
      ]
    },
    {
      "cell_type": "markdown",
      "metadata": {
        "id": "vW_pryMTQq80"
      },
      "source": [
        "Once the filtering is done, we can perform the same experiments we did above."
      ]
    },
    {
      "cell_type": "code",
      "execution_count": null,
      "metadata": {
        "id": "36j0FGjeQq80",
        "outputId": "512603df-4d7d-4f5c-f2c5-66f58ebc8dc3"
      },
      "outputs": [
        {
          "data": {
            "text/plain": [
              "<AxesSubplot:xlabel='salary_monthly_NET', ylabel='programming_language'>"
            ]
          },
          "execution_count": 54,
          "metadata": {},
          "output_type": "execute_result"
        },
        {
          "data": {
            "image/png": "[encoded data removed]",
            "text/plain": [
              "<Figure size 432x288 with 1 Axes>"
            ]
          },
          "metadata": {
            "needs_background": "light"
          },
          "output_type": "display_data"
        }
      ],
      "source": [
        "seaborn.barplot(data=filtered_df_lang.reset_index(), x=\"salary_monthly_NET\", y=\"programming_language\")"
      ]
    },
    {
      "cell_type": "markdown",
      "metadata": {
        "id": "-P8rJ2fZQq80"
      },
      "source": [
        "Other cool things we can do with visualization!\n",
        "\n",
        "How many world cup figure packages do we need to buy until obtaining a Messi's card?\n",
        "\n",
        "https://www.linkedin.com/feed/update/urn:li:activity:6968668384691433472?utm_source=share&utm_medium=member_desktop"
      ]
    }
  ],
  "metadata": {
    "colab": {
      "name": "01__practical_exercises.ipynb",
      "provenance": [],
      "include_colab_link": true
    },
    "kernelspec": {
      "display_name": "Python 3 (ipykernel)",
      "language": "python",
      "name": "python3"
    },
    "language_info": {
      "codemirror_mode": {
        "name": "ipython",
        "version": 3
      },
      "file_extension": ".py",
      "mimetype": "text/x-python",
      "name": "python",
      "nbconvert_exporter": "python",
      "pygments_lexer": "ipython3",
      "version": "3.10.8"
    }
  },
  "nbformat": 4,
  "nbformat_minor": 0
}